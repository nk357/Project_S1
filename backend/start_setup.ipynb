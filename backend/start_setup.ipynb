{
 "cells": [
  {
   "cell_type": "code",
   "execution_count": 1,
   "id": "858b26de",
   "metadata": {},
   "outputs": [],
   "source": [
    "import datetime as dt\n",
    "import os\n",
    "from google.auth.transport.requests import Request\n",
    "from google.oauth2.credentials import Credentials\n",
    "from google_auth_oauthlib.flow import InstalledAppFlow\n",
    "from googleapiclient.discovery import build\n",
    "from googleapiclient.errors import HttpError\n",
    "\n",
    "\n"
   ]
  },
  {
   "cell_type": "code",
   "execution_count": null,
   "id": "2340df46",
   "metadata": {},
   "outputs": [
    {
     "ename": "UnboundLocalError",
     "evalue": "cannot access local variable 'creds' where it is not associated with a value",
     "output_type": "error",
     "traceback": [
      "\u001b[31m---------------------------------------------------------------------------\u001b[39m",
      "\u001b[31mUnboundLocalError\u001b[39m                         Traceback (most recent call last)",
      "\u001b[36mCell\u001b[39m\u001b[36m \u001b[39m\u001b[32mIn[1]\u001b[39m\u001b[32m, line 24\u001b[39m\n\u001b[32m     21\u001b[39m                 token_file.write(creds.to_json())\n\u001b[32m     22\u001b[39m     main()\n\u001b[32m---> \u001b[39m\u001b[32m24\u001b[39m \u001b[43mtoken\u001b[49m\u001b[43m(\u001b[49m\u001b[43m)\u001b[49m\n",
      "\u001b[36mCell\u001b[39m\u001b[36m \u001b[39m\u001b[32mIn[1]\u001b[39m\u001b[32m, line 22\u001b[39m, in \u001b[36mtoken\u001b[39m\u001b[34m()\u001b[39m\n\u001b[32m     20\u001b[39m         \u001b[38;5;28;01mwith\u001b[39;00m \u001b[38;5;28mopen\u001b[39m(\u001b[33m'\u001b[39m\u001b[33mtoken.json\u001b[39m\u001b[33m'\u001b[39m, \u001b[33m'\u001b[39m\u001b[33mw\u001b[39m\u001b[33m'\u001b[39m) \u001b[38;5;28;01mas\u001b[39;00m token_file:\n\u001b[32m     21\u001b[39m             token_file.write(creds.to_json())\n\u001b[32m---> \u001b[39m\u001b[32m22\u001b[39m \u001b[43mmain\u001b[49m\u001b[43m(\u001b[49m\u001b[43m)\u001b[49m\n",
      "\u001b[36mCell\u001b[39m\u001b[36m \u001b[39m\u001b[32mIn[1]\u001b[39m\u001b[32m, line 11\u001b[39m, in \u001b[36mtoken.<locals>.main\u001b[39m\u001b[34m()\u001b[39m\n\u001b[32m      9\u001b[39m     creds = Credentials.from_authorized_user_file(\u001b[33m'\u001b[39m\u001b[33mtoken.json\u001b[39m\u001b[33m'\u001b[39m, SCOPES)\n\u001b[32m     10\u001b[39m \u001b[38;5;66;03m# If there are no (valid) credentials available, let the user log in.\u001b[39;00m\n\u001b[32m---> \u001b[39m\u001b[32m11\u001b[39m \u001b[38;5;28;01mif\u001b[39;00m \u001b[38;5;129;01mnot\u001b[39;00m \u001b[43mcreds\u001b[49m \u001b[38;5;129;01mor\u001b[39;00m \u001b[38;5;129;01mnot\u001b[39;00m creds.valid:\n\u001b[32m     12\u001b[39m     \u001b[38;5;28;01mif\u001b[39;00m creds \u001b[38;5;129;01mand\u001b[39;00m creds.expired \u001b[38;5;129;01mand\u001b[39;00m creds.refresh_token:\n\u001b[32m     13\u001b[39m         creds.refresh(Request())\n",
      "\u001b[31mUnboundLocalError\u001b[39m: cannot access local variable 'creds' where it is not associated with a value"
     ]
    }
   ],
   "source": [
    "def token():\n",
    "    import os.path\n",
    "    SCOPES = ['https://www.googleapis.com/auth/drive']\n",
    "\n",
    "    def main():\n",
    "        \"\"\"Basic usage of the Drive v3 API.\"\"\"\n",
    "        creds = None  # Initialize creds to avoid UnboundLocalError\n",
    "\n",
    "        if os.path.exists('token.json'):\n",
    "            creds = Credentials.from_authorized_user_file('token.json', SCOPES)\n",
    "        # If there are no (valid) credentials available, let the user log in.\n",
    "        if not creds or not creds.valid:\n",
    "            if creds and creds.expired and creds.refresh_token:\n",
    "                creds.refresh(Request())\n",
    "            else:\n",
    "                flow = InstalledAppFlow.from_client_secrets_file(\n",
    "                    'credentials_oauth.json', SCOPES)\n",
    "                creds = flow.run_local_server(port=0)\n",
    "\n",
    "            # Save the credentials for the next run\n",
    "            with open('token.json', 'w') as token_file:\n",
    "                token_file.write(creds.to_json())\n",
    "    main()\n",
    "\n",
    "token()"
   ]
  },
  {
   "cell_type": "code",
   "execution_count": null,
   "id": "d8c09bde",
   "metadata": {},
   "outputs": [],
   "source": []
  }
 ],
 "metadata": {
  "kernelspec": {
   "display_name": ".env",
   "language": "python",
   "name": "python3"
  },
  "language_info": {
   "codemirror_mode": {
    "name": "ipython",
    "version": 3
   },
   "file_extension": ".py",
   "mimetype": "text/x-python",
   "name": "python",
   "nbconvert_exporter": "python",
   "pygments_lexer": "ipython3",
   "version": "3.13.5"
  }
 },
 "nbformat": 4,
 "nbformat_minor": 5
}
